{
 "cells": [
  {
   "cell_type": "code",
   "execution_count": null,
   "metadata": {},
   "outputs": [],
   "source": [
    "import requests\n",
    "from IPython.display import HTML\n",
    "from bs4 import BeautifulSoup\n",
    "import requests\n",
    "import cloudscraper\n",
    "from IPython.display import HTML\n",
    "\n",
    "scraper = cloudscraper.create_scraper()\n",
    "url = \"https://bsd.sos.mo.gov/BusinessEntity/BESearch.aspx?SearchType=0\"\n",
    "\n",
    "payload = 'SearchType=%200'\n",
    "headers = {\n",
    "  'Cookie': '_ga=GA1.4.657535368.1705067051; _ga=GA1.3.657535368.1705067051; loggedInLobIDCookie=1; tw_co_rcOZLj=%7B%22widget_opened%22%3Afalse%7D; ASP.NET_SessionId=4qj35dnird5dtqicyidvycfx; _gid=GA1.4.324444273.1706853277; _gid=GA1.2.324444273.1706853277; cf_chl_rc_ni=2; cf_clearance=RbEe_vxNjVAzKahIyMqNprgVoGR4K3TUKl.NVKen5LA-1706856559-1-AZcYVIDcau6rl64WCOO/oh2aAPvNGhxtPV7njwf9XHQ8hGJXbuuFvemP58Z0NL09aTvOS4h4ni2rr5WKBETgftU=; cf_chl_3=c730b06dff6e531; __cf_bm=QSKN1vEBVFvUr_U9zX7eaAA6tz6Y6LDitvX8gU7OUvY-1706859123-1-AeRf72xr4o1h2V2KWqeSPVU31LrUvQhyhR+io3xp+7hToFEDoBfr+B41LD/mT2Mi9V8+w112CuFo4QlL2dtMMBw=; cf_chl_rc_m=9; _gat=1; _gat_UA-24933549-4=1; _ga=GA1.1.657535368.1705067051; _ga_H6GS930H55=GS1.1.1706853277.8.1.1706859135.0.0.0',\n",
    "  'User-Agent': 'Mozilla/5.0 (Linux; Android 6.0; Nexus 5 Build/MRA58N) AppleWebKit/537.36 (KHTML, like Gecko) Chrome/121.0.0.0 Mobile Safari/537.36',\n",
    "  'Content-Type': 'application/x-www-form-urlencoded'\n",
    "}\n",
    "\n",
    "\n",
    "response = scraper.post(url, headers=headers, data=payload)\n",
    "\n",
    "count= 1\n",
    "for i in range(3021369,4021369):\n",
    "    url = f\"https://bsd.sos.mo.gov/BusinessEntity/BusinessEntityDetail.aspx?page=beSearch&ID={i}\"\n",
    "\n",
    "    payload = 'ID=%203021369'\n",
    "    headers = {\n",
    "        'Cookie': 'loggedInLobIDCookie=1; _ga=GA1.4.438315582.1711453012; _gid=GA1.4.491170865.1711539801; _gid=GA1.2.491170865.1711539801; ASP.NET_SessionId=kl5lyqyvscvmzykvgqaf40le; cf_clearance=3DhX.MZFTSrmUZUtLF5nN6uWUdla1mtZxBPWC2_u.yg-1711607093-1.0.1.1-Kh2OCDhaQvGQ_0sF7CErmKl8EjCp167At6AeXF_7QkRIBjXTncsZVOXs_07.Xzv2KIKZypASsDE9viyBQrJduA; tw_co_rcOZLj=%7B%22widget_opened%22%3Atrue%7D; tars_widget=%7B%22widget_opened%22%3Atrue%2C%22widget_opened_ts%22%3A1711613562677%7D; __cf_bm=L7xVKZKufSf5fQ6Bz6Ym5DDzCPUf1NZCiFjIBQ1orOQ-1711613711-1.0.1.1-rLMz0SdJxlNRDDqendBVoJvxlb6wsAL4Emis2jYKlycAxKu5PCCx.mqO3wBH.jw0XDzHn4MmjTPvdNVJrIgzng; _gat=1; _gat_UA-24933549-4=1; _ga=GA1.1.438315582.1711453012; _ga_H6GS930H55=GS1.1.1711613918.3.0.1711613923.0.0.0',\n",
    "        'Referer': 'https://bsd.sos.mo.gov/BusinessEntity/BESearch.aspx?SearchType=0',\n",
    "        'User-Agent': 'Mozilla/5.0 (Linux; Android 6.0; Nexus 5 Build/MRA58N) AppleWebKit/537.36 (KHTML, like Gecko) Chrome/121.0.0.0 Mobile Safari/537.36',\n",
    "        'Content-Type': 'application/x-www-form-urlencoded'\n",
    "      }\n",
    "\n",
    "\n",
    "    response = scraper.get(url, headers=headers, data=payload)\n",
    "    response_content = response.text\n",
    "    \n",
    "    soup = BeautifulSoup(response_content, 'html.parser')\n",
    "    find_element = soup.find('span', id ='ctl00_ctl00_ContentPlaceHolderMain_ContentPlaceHolderMainSingle_ppBEDetail_lBEBINValue')\n",
    "    if find_element:\n",
    "      text_content = find_element.text\n",
    "\n",
    "    else:\n",
    "      text_content = f\"{count}\"\n",
    "\n",
    "    if 'Error code 520' in response_content:\n",
    "        print(\"Error code 520\")\n",
    "        print(display(HTML(response_content)))\n",
    "        break\n",
    "    \n",
    "    else:\n",
    "      with open(f'{text_content}.html', 'w', encoding=\"utf-8\") as file:\n",
    "          file.write(response_content)\n",
    "          print(f'{text_content} download successfully')\n",
    "      \n",
    "    count+=1 \n",
    "\n"
   ]
  },
  {
   "cell_type": "code",
   "execution_count": 4,
   "metadata": {},
   "outputs": [
    {
     "name": "stdout",
     "output_type": "stream",
     "text": [
      "00048734 download successfully\n"
     ]
    }
   ],
   "source": [
    "import requests\n",
    "import cloudscraper\n",
    "\n",
    "scraper = cloudscraper.create_scraper()\n",
    "\n",
    "url = \"https://bsd.sos.mo.gov/BusinessEntity/BusinessEntityDetail.aspx?page=beSearch&ID=47311\"\n",
    "\n",
    "payload = 'page=%20beSearch&ID=%47311'\n",
    "headers = {\n",
    "    'Cookie': 'loggedInLobIDCookie=1; _ga=GA1.4.438315582.1711453012; _gid=GA1.4.491170865.1711539801; _gid=GA1.2.491170865.1711539801; ASP.NET_SessionId=kl5lyqyvscvmzykvgqaf40le; cf_clearance=3DhX.MZFTSrmUZUtLF5nN6uWUdla1mtZxBPWC2_u.yg-1711607093-1.0.1.1-Kh2OCDhaQvGQ_0sF7CErmKl8EjCp167At6AeXF_7QkRIBjXTncsZVOXs_07.Xzv2KIKZypASsDE9viyBQrJduA; tw_co_rcOZLj=%7B%22widget_opened%22%3Atrue%7D; tars_widget=%7B%22widget_opened%22%3Atrue%2C%22widget_opened_ts%22%3A1711613562677%7D; __cf_bm=L7xVKZKufSf5fQ6Bz6Ym5DDzCPUf1NZCiFjIBQ1orOQ-1711613711-1.0.1.1-rLMz0SdJxlNRDDqendBVoJvxlb6wsAL4Emis2jYKlycAxKu5PCCx.mqO3wBH.jw0XDzHn4MmjTPvdNVJrIgzng; _gat=1; _gat_UA-24933549-4=1; _ga=GA1.1.438315582.1711453012; _ga_H6GS930H55=GS1.1.1711613918.3.0.1711613923.0.0.',\n",
    "    'Referer': 'https://bsd.sos.mo.gov/BusinessEntity/BESearch.aspx?returnPage=BusinessEntityDetail',\n",
    "    'User-Agent': 'Mozilla/5.0 (Windows NT 10.0; Win64; x64) AppleWebKit/537.36 (KHTML, like Gecko) Chrome/123.0.0.0 Safari/537.36',\n",
    "    'Content-Type': 'application/x-www-form-urlencoded'\n",
    "}\n",
    "\n",
    "response = scraper.get(url, headers=headers, data=payload)\n",
    "response_content = response.text\n",
    "    \n",
    "soup = BeautifulSoup(response_content, 'html.parser')\n",
    "find_element = soup.find('span', id ='ctl00_ctl00_ContentPlaceHolderMain_ContentPlaceHolderMainSingle_ppBEDetail_lBEBINValue')\n",
    "if find_element:\n",
    "  text_content = find_element.text\n",
    "  with open(f'{text_content}.html', 'w', encoding=\"utf-8\") as file:\n",
    "      file.write(response_content)\n",
    "      print(f'{text_content} download successfully')\n",
    "\n",
    "\n",
    "# print(response.text)\n"
   ]
  }
 ],
 "metadata": {
  "kernelspec": {
   "display_name": "selenium",
   "language": "python",
   "name": "python3"
  },
  "language_info": {
   "codemirror_mode": {
    "name": "ipython",
    "version": 3
   },
   "file_extension": ".py",
   "mimetype": "text/x-python",
   "name": "python",
   "nbconvert_exporter": "python",
   "pygments_lexer": "ipython3",
   "version": "3.10.0"
  }
 },
 "nbformat": 4,
 "nbformat_minor": 2
}
